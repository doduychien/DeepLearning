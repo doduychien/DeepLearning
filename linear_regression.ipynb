{
  "nbformat": 4,
  "nbformat_minor": 0,
  "metadata": {
    "colab": {
      "provenance": [],
      "authorship_tag": "ABX9TyO1S1yd6IcAsp1NK/s1GzN8",
      "include_colab_link": true
    },
    "kernelspec": {
      "name": "python3",
      "display_name": "Python 3"
    },
    "language_info": {
      "name": "python"
    }
  },
  "cells": [
    {
      "cell_type": "markdown",
      "metadata": {
        "id": "view-in-github",
        "colab_type": "text"
      },
      "source": [
        "<a href=\"https://colab.research.google.com/github/doduychien/DeepLearning/blob/main/linear_regression.ipynb\" target=\"_parent\"><img src=\"https://colab.research.google.com/assets/colab-badge.svg\" alt=\"Open In Colab\"/></a>"
      ]
    },
    {
      "cell_type": "code",
      "execution_count": 1,
      "metadata": {
        "id": "by3Q7VngZpy3"
      },
      "outputs": [],
      "source": [
        "import numpy as np"
      ]
    },
    {
      "cell_type": "code",
      "source": [
        "import pandas as pd"
      ],
      "metadata": {
        "id": "s3JvB6G9V7n-"
      },
      "execution_count": 2,
      "outputs": []
    },
    {
      "cell_type": "code",
      "source": [
        "import matplotlib.pyplot as plt"
      ],
      "metadata": {
        "id": "W73dSbWOV_uG"
      },
      "execution_count": 3,
      "outputs": []
    },
    {
      "cell_type": "code",
      "source": [
        "data = pd.read_csv('data_linear.csv').values"
      ],
      "metadata": {
        "id": "RNGKdsGPWBcW"
      },
      "execution_count": 4,
      "outputs": []
    },
    {
      "cell_type": "code",
      "source": [
        "N = data.shape[0]"
      ],
      "metadata": {
        "id": "asvb7g7OWEhX"
      },
      "execution_count": 5,
      "outputs": []
    },
    {
      "cell_type": "code",
      "source": [
        "x = data[:, 0].reshape(-1, 1)\n",
        "y = data[:, 1].reshape(-1, 1)"
      ],
      "metadata": {
        "id": "ICTGZPYcWGgu"
      },
      "execution_count": 6,
      "outputs": []
    },
    {
      "cell_type": "code",
      "source": [
        "plt.scatter(x, y)\n",
        "plt.xlabel('mét vuông')\n",
        "plt.ylabel('giá')"
      ],
      "metadata": {
        "colab": {
          "base_uri": "https://localhost:8080/",
          "height": 467
        },
        "id": "NaWkGPcxWKmX",
        "outputId": "969230a0-f7ad-417f-b647-393bedaf3d22"
      },
      "execution_count": 7,
      "outputs": [
        {
          "output_type": "execute_result",
          "data": {
            "text/plain": [
              "Text(0, 0.5, 'giá')"
            ]
          },
          "metadata": {},
          "execution_count": 7
        },
        {
          "output_type": "display_data",
          "data": {
            "text/plain": [
              "<Figure size 640x480 with 1 Axes>"
            ],
            "image/png": "[encoded data removed]"
          },
          "metadata": {}
        }
      ]
    },
    {
      "cell_type": "code",
      "source": [
        "x = np.hstack((np.ones((N, 1)), x))\n",
        "\n",
        "w = np.array([0.,1.]).reshape(-1,1)"
      ],
      "metadata": {
        "id": "PYRbjI6CWqmV"
      },
      "execution_count": 8,
      "outputs": []
    },
    {
      "cell_type": "code",
      "source": [
        "numOfIteration = 100\n",
        "cost = np.zeros((numOfIteration,1))\n",
        "learning_rate = 0.000001"
      ],
      "metadata": {
        "id": "zoUlKsIzWthO"
      },
      "execution_count": 9,
      "outputs": []
    },
    {
      "cell_type": "code",
      "source": [
        "print(x)"
      ],
      "metadata": {
        "colab": {
          "base_uri": "https://localhost:8080/"
        },
        "id": "DjUNJPZxWwiO",
        "outputId": "4be5df78-2c5a-4f33-ecb1-c84cd88f91b9"
      },
      "execution_count": 10,
      "outputs": [
        {
          "output_type": "stream",
          "name": "stdout",
          "text": [
            "[[  1.      30.    ]\n",
            " [  1.      32.4138]\n",
            " [  1.      34.8276]\n",
            " [  1.      37.2414]\n",
            " [  1.      39.6552]\n",
            " [  1.      42.069 ]\n",
            " [  1.      44.4828]\n",
            " [  1.      46.8966]\n",
            " [  1.      49.3103]\n",
            " [  1.      51.7241]\n",
            " [  1.      54.1379]\n",
            " [  1.      56.5517]\n",
            " [  1.      58.9655]\n",
            " [  1.      61.3793]\n",
            " [  1.      63.7931]\n",
            " [  1.      66.2069]\n",
            " [  1.      68.6207]\n",
            " [  1.      71.0345]\n",
            " [  1.      73.4483]\n",
            " [  1.      75.8621]\n",
            " [  1.      78.2759]\n",
            " [  1.      80.6897]\n",
            " [  1.      83.1034]\n",
            " [  1.      85.5172]\n",
            " [  1.      87.931 ]\n",
            " [  1.      90.3448]\n",
            " [  1.      92.7586]\n",
            " [  1.      95.1724]\n",
            " [  1.      97.5862]\n",
            " [  1.     100.    ]]\n"
          ]
        }
      ]
    },
    {
      "cell_type": "code",
      "source": [
        "for i in range(1, numOfIteration):\n",
        "    r = np.dot(x, w) - y\n",
        "    cost[i] = 0.5*np.sum(r*r)\n",
        "    w[0] -= learning_rate*np.sum(r)\n",
        "    # correct the shape dimension\n",
        "    w[1] -= learning_rate*np.sum(np.multiply(r, x[:,1].reshape(-1,1)))\n",
        "    print(cost[i])"
      ],
      "metadata": {
        "colab": {
          "base_uri": "https://localhost:8080/"
        },
        "id": "JvIjLfo3X_fH",
        "outputId": "89414e05-47ea-46bf-c738-8c3beecb33f8"
      },
      "execution_count": 12,
      "outputs": [
        {
          "output_type": "stream",
          "name": "stdout",
          "text": [
            "[13929872.64455245]\n",
            "[10306582.37422079]\n",
            "[7625999.18237673]\n",
            "[5642849.69326854]\n",
            "[4175675.71851866]\n",
            "[3090230.83195734]\n",
            "[2287196.82094014]\n",
            "[1693096.06938209]\n",
            "[1253568.35550934]\n",
            "[928396.89128833]\n",
            "[687828.48611463]\n",
            "[509851.12972016]\n",
            "[378179.89312088]\n",
            "[280766.8575313]\n",
            "[208698.72973386]\n",
            "[155381.27570385]\n",
            "[115935.94816237]\n",
            "[86753.4994753]\n",
            "[65163.7354763]\n",
            "[49191.19268689]\n",
            "[37374.38339803]\n",
            "[28632.06953731]\n",
            "[22164.32937972]\n",
            "[17379.36470576]\n",
            "[13839.35126131]\n",
            "[11220.37783611]\n",
            "[9282.80838638]\n",
            "[7849.35533562]\n",
            "[6788.85776037]\n",
            "[6004.28016513]\n",
            "[5423.83373397]\n",
            "[4994.40765352]\n",
            "[4676.70947326]\n",
            "[4441.66984614]\n",
            "[4267.78268312]\n",
            "[4139.13734594]\n",
            "[4043.96282366]\n",
            "[3973.55068504]\n",
            "[3921.4582571]\n",
            "[3882.91912046]\n",
            "[3854.40698198]\n",
            "[3833.3130189]\n",
            "[3817.70717153]\n",
            "[3806.16154282]\n",
            "[3797.61974572]\n",
            "[3791.30024382]\n",
            "[3786.62484071]\n",
            "[3783.16577503]\n",
            "[3780.60658031]\n",
            "[3778.71312826]\n",
            "[3777.31220606]\n",
            "[3776.27566738]\n",
            "[3775.50870698]\n",
            "[3774.94118601]\n",
            "[3774.52121437]\n",
            "[3774.21040269]\n",
            "[3773.98034975]\n",
            "[3773.81004376]\n",
            "[3773.68393976]\n",
            "[3773.59053729]\n",
            "[3773.52132808]\n",
            "[3773.47001751]\n",
            "[3773.43194874]\n",
            "[3773.4036765]\n",
            "[3773.38265195]\n",
            "[3773.36698937]\n",
            "[3773.3552937]\n",
            "[3773.34653282]\n",
            "[3773.33994316]\n",
            "[3773.33495981]\n",
            "[3773.33116485]\n",
            "[3773.32824908]\n",
            "[3773.32598375]\n",
            "[3773.32419963]\n",
            "[3773.32277153]\n",
            "[3773.32160681]\n",
            "[3773.32063694]\n",
            "[3773.31981124]\n",
            "[3773.31909219]\n",
            "[3773.31845205]\n",
            "[3773.31787028]\n",
            "[3773.3173317]\n",
            "[3773.31682507]\n",
            "[3773.31634209]\n",
            "[3773.31587659]\n",
            "[3773.31542403]\n",
            "[3773.31498104]\n",
            "[3773.31454514]\n",
            "[3773.31411448]\n",
            "[3773.3136877]\n",
            "[3773.31326379]\n",
            "[3773.312842]\n",
            "[3773.31242178]\n",
            "[3773.31200273]\n",
            "[3773.31158454]\n",
            "[3773.31116698]\n",
            "[3773.3107499]\n",
            "[3773.31033317]\n",
            "[3773.3099167]\n"
          ]
        }
      ]
    },
    {
      "cell_type": "code",
      "source": [
        "predict = np.dot(x, w)"
      ],
      "metadata": {
        "id": "CaF9JAh_bAdO"
      },
      "execution_count": 13,
      "outputs": []
    },
    {
      "cell_type": "code",
      "source": [
        "plt.plot((x[0][1], x[N-1][1]),(predict[0], predict[N-1]), 'r')\n",
        "plt.show()"
      ],
      "metadata": {
        "colab": {
          "base_uri": "https://localhost:8080/",
          "height": 430
        },
        "id": "ndpm8f8djdeg",
        "outputId": "c533eff1-da34-40b4-e8ab-2a9e2290d2cc"
      },
      "execution_count": 14,
      "outputs": [
        {
          "output_type": "display_data",
          "data": {
            "text/plain": [
              "<Figure size 640x480 with 1 Axes>"
            ],
            "image/png": "[encoded data removed]"
          },
          "metadata": {}
        }
      ]
    },
    {
      "cell_type": "code",
      "source": [
        "x1 = 50\n",
        "y1 = w[0] + w[1] * 50\n",
        "print('Giá nhà cho 50m^2 là : ', y1)"
      ],
      "metadata": {
        "colab": {
          "base_uri": "https://localhost:8080/"
        },
        "id": "ul5C7Swgms14",
        "outputId": "a0f7c226-898d-4f30-d669-6c6c182e5933"
      },
      "execution_count": 15,
      "outputs": [
        {
          "output_type": "stream",
          "name": "stdout",
          "text": [
            "Giá nhà cho 50m^2 là :  [755.68795083]\n"
          ]
        }
      ]
    }
  ]
}